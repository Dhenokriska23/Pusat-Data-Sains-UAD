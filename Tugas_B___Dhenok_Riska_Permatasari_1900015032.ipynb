{
  "nbformat": 4,
  "nbformat_minor": 0,
  "metadata": {
    "colab": {
      "name": "Tugas B _ Dhenok Riska Permatasari_1900015032.ipynb",
      "provenance": [],
      "include_colab_link": true
    },
    "kernelspec": {
      "name": "python3",
      "display_name": "Python 3"
    }
  },
  "cells": [
    {
      "cell_type": "markdown",
      "metadata": {
        "id": "view-in-github",
        "colab_type": "text"
      },
      "source": [
        "<a href=\"https://colab.research.google.com/github/Dhenokriska23/Pusat-Data-Sains-UAD/blob/main/Tugas_B___Dhenok_Riska_Permatasari_1900015032.ipynb\" target=\"_parent\"><img src=\"https://colab.research.google.com/assets/colab-badge.svg\" alt=\"Open In Colab\"/></a>"
      ]
    },
    {
      "cell_type": "markdown",
      "metadata": {
        "id": "tWeTsVupeW3q"
      },
      "source": [
        "Volume balok dan prisma"
      ]
    },
    {
      "cell_type": "code",
      "metadata": {
        "id": "fM6Hlz2jeSzU"
      },
      "source": [
        "def volume_balok(a,b,c):\r\n",
        "  volume = a*b*c\r\n",
        "  return volume\r\n",
        "def volume_prisma(a,b,t):\r\n",
        "  volume = (a*b*t)/2\r\n",
        "  return volume\r\n",
        "def volume_balok_prisma(a,b,c,t):\r\n",
        "  v1=volume_balok(a,b,c)\r\n",
        "  v2=volume_prisma(a,b,t)\r\n",
        "  volume=v1+v2\r\n",
        "  return volume"
      ],
      "execution_count": null,
      "outputs": []
    },
    {
      "cell_type": "code",
      "metadata": {
        "colab": {
          "base_uri": "https://localhost:8080/"
        },
        "id": "mvH2MKmBeVgs",
        "outputId": "62362d1b-01ea-42a0-fe89-872d10f05aad"
      },
      "source": [
        "#a=2, b=4, c=6, t=7\r\n",
        "volume_balok(2,4,6)"
      ],
      "execution_count": null,
      "outputs": [
        {
          "output_type": "execute_result",
          "data": {
            "text/plain": [
              "48"
            ]
          },
          "metadata": {
            "tags": []
          },
          "execution_count": 3
        }
      ]
    },
    {
      "cell_type": "code",
      "metadata": {
        "colab": {
          "base_uri": "https://localhost:8080/"
        },
        "id": "ZYFoOPDsf-Y-",
        "outputId": "a0f3d89e-ef47-4144-a6a6-2f67b74c9505"
      },
      "source": [
        "volume_prisma(2,4,6)"
      ],
      "execution_count": null,
      "outputs": [
        {
          "output_type": "execute_result",
          "data": {
            "text/plain": [
              "24.0"
            ]
          },
          "metadata": {
            "tags": []
          },
          "execution_count": 6
        }
      ]
    },
    {
      "cell_type": "code",
      "metadata": {
        "colab": {
          "base_uri": "https://localhost:8080/"
        },
        "id": "305WOn2WgQ7X",
        "outputId": "84a6f8c3-cbf9-4ee0-fe97-946f55b3f4d9"
      },
      "source": [
        "volume_balok_prisma(2,4,6,7)"
      ],
      "execution_count": null,
      "outputs": [
        {
          "output_type": "execute_result",
          "data": {
            "text/plain": [
              "76.0"
            ]
          },
          "metadata": {
            "tags": []
          },
          "execution_count": 7
        }
      ]
    }
  ]
}